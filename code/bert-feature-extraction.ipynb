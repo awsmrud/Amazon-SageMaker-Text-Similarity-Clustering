{
 "cells": [
  {
   "cell_type": "code",
   "execution_count": null,
   "metadata": {},
   "outputs": [],
   "source": [
    "!pip install transformers==3.3.1"
   ]
  },
  {
   "cell_type": "code",
   "execution_count": null,
   "metadata": {},
   "outputs": [],
   "source": [
    "%%writefile bert_feature_extraction.py\n",
    "\n",
    "from transformers import BertTokenizer, BertModel\n",
    "import torch\n",
    "\n",
    "tokenizer = BertTokenizer.from_pretrained(\"bert-base-uncased\")\n",
    "tokenized_dict = tokenizer.encode_plus(\n",
    "    \"demo feature extraction for use in downstream task\",\n",
    "    add_special_tokens=False\n",
    "    #max_length=5\n",
    "    )\n",
    "\n",
    "print(\"tokenized_dict:\", tokenized_dict)\n",
    "\n",
    "bert_model = BertModel.from_pretrained(\"bert-base-uncased\")\n",
    "tokenized_text = torch.tensor(tokenized_dict[\"input_ids\"])\n",
    "with torch.no_grad():\n",
    "  embeddings = bert_model(torch.tensor(tokenized_text.unsqueeze(0)))\n",
    "\n",
    "print(\"embeddings\", embeddings[0])"
   ]
  },
  {
   "cell_type": "code",
   "execution_count": null,
   "metadata": {},
   "outputs": [],
   "source": [
    "!python bert_feature_extraction.py"
   ]
  },
  {
   "cell_type": "code",
   "execution_count": null,
   "metadata": {},
   "outputs": [],
   "source": [
    "%%writefile bert_feature_extraction_pipeline.py\n",
    "\n",
    "from transformers import pipeline\n",
    "\n",
    "nlp = pipeline(\"feature-extraction\")\n",
    "\n",
    "sentence = \"test feature extraction\"\n",
    "\n",
    "result = nlp(sentence)\n",
    "\n",
    "print(\"result:\", result[0][0])"
   ]
  },
  {
   "cell_type": "code",
   "execution_count": null,
   "metadata": {},
   "outputs": [],
   "source": [
    "!python bert_feature_extraction_pipeline.py"
   ]
  },
  {
   "cell_type": "code",
   "execution_count": null,
   "metadata": {},
   "outputs": [],
   "source": []
  }
 ],
 "metadata": {
  "instance_type": "ml.m5.large",
  "kernelspec": {
   "display_name": "Python 3 (PyTorch CPU Optimized)",
   "language": "python",
   "name": "python3__SAGEMAKER_INTERNAL__arn:aws:sagemaker:us-east-1:081325390199:image/pytorch-1.4-cpu-py36"
  },
  "language_info": {
   "codemirror_mode": {
    "name": "ipython",
    "version": 3
   },
   "file_extension": ".py",
   "mimetype": "text/x-python",
   "name": "python",
   "nbconvert_exporter": "python",
   "pygments_lexer": "ipython3",
   "version": "3.6.6"
  }
 },
 "nbformat": 4,
 "nbformat_minor": 4
}
